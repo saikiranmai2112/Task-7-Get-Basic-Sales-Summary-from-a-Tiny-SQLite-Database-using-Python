{
  "nbformat": 4,
  "nbformat_minor": 0,
  "metadata": {
    "colab": {
      "provenance": []
    },
    "kernelspec": {
      "name": "python3",
      "display_name": "Python 3"
    },
    "language_info": {
      "name": "python"
    }
  },
  "cells": [
    {
      "cell_type": "code",
      "execution_count": null,
      "metadata": {
        "id": "oLeKM1X-SGls"
      },
      "outputs": [],
      "source": [
        "import sqlite3\n",
        "import pandas as pd\n",
        "import matplotlib.pyplot as plt"
      ]
    },
    {
      "cell_type": "code",
      "source": [
        "# Step-1: Create and connect SQLite database\n",
        "conn = sqlite3.connect(\"sales_data.db\")\n",
        "cursor = conn.cursor()"
      ],
      "metadata": {
        "id": "7hI7p4qOSbdl"
      },
      "execution_count": null,
      "outputs": []
    },
    {
      "cell_type": "code",
      "source": [
        "# Step-2: Create 'sales' table\n",
        "cursor.execute(\"DROP TABLE IF EXISTS Sales\") # Avoid duplicates during reruns\n",
        "cursor.execute(\"\"\"\n",
        "CREATE TABLE Sales (\n",
        "  product TEXT,\n",
        "  quantity INTEGER,\n",
        "  price REAL\n",
        "\n",
        ")\n",
        "\"\"\")"
      ],
      "metadata": {
        "colab": {
          "base_uri": "https://localhost:8080/"
        },
        "id": "ztE_bxE4SbYP",
        "outputId": "f8d716b0-78a5-42b2-d1bc-14897c65ef99"
      },
      "execution_count": null,
      "outputs": [
        {
          "output_type": "execute_result",
          "data": {
            "text/plain": [
              "<sqlite3.Cursor at 0x7c4cf3a7fac0>"
            ]
          },
          "metadata": {},
          "execution_count": 3
        }
      ]
    },
    {
      "cell_type": "code",
      "source": [
        "# Step 3: Insert sample sales data\n",
        "sample_data = [\n",
        "    ('Apples', 30, 0.50),\n",
        "    ('Bananas', 45, 0.30),\n",
        "    ('Cherries', 25, 1.00),\n",
        "    ('Apples', 20, 0.50),\n",
        "    ('Bananas', 40, 0.30),\n",
        "    ('Cherries', 30, 1.00),\n",
        "    ('Dates', 10, 1.50),\n",
        "    ('Elderberries', 5, 2.00)\n",
        "]\n",
        "cursor.executemany(\"INSERT INTO sales (product, quantity, price) VALUES (?, ?, ?)\", sample_data)\n",
        "conn.commit()"
      ],
      "metadata": {
        "id": "e9pKTGb6SbMy"
      },
      "execution_count": null,
      "outputs": []
    },
    {
      "cell_type": "code",
      "source": [
        "# Step 4: Query to compute total quantity and revenue per product\n",
        "query = \"\"\"\n",
        "SELECT product,\n",
        "       SUM(quantity) AS total_qty,\n",
        "       SUM(quantity * price) AS revenue\n",
        "FROM sales\n",
        "GROUP BY product\n",
        "\"\"\""
      ],
      "metadata": {
        "id": "FaVeI2gZTip4"
      },
      "execution_count": null,
      "outputs": []
    },
    {
      "cell_type": "code",
      "source": [
        "# Step 5: Load results into pandas DataFrame and print\n",
        "df = pd.read_sql_query(query, conn)\n",
        "print(df)"
      ],
      "metadata": {
        "colab": {
          "base_uri": "https://localhost:8080/"
        },
        "id": "FkE82SZVTiYr",
        "outputId": "e961b8a6-be16-4497-b099-795d47251681"
      },
      "execution_count": null,
      "outputs": [
        {
          "output_type": "stream",
          "name": "stdout",
          "text": [
            "        product  total_qty  revenue\n",
            "0        Apples         50     25.0\n",
            "1       Bananas         85     25.5\n",
            "2      Cherries         55     55.0\n",
            "3         Dates         10     15.0\n",
            "4  Elderberries          5     10.0\n"
          ]
        }
      ]
    },
    {
      "cell_type": "code",
      "source": [
        "# Step 6: Close connection\n",
        "conn.close()"
      ],
      "metadata": {
        "id": "C-4S3ne5Tr_f"
      },
      "execution_count": null,
      "outputs": []
    },
    {
      "cell_type": "code",
      "source": [
        "# Step 7: Plot the revenue bar chart\n",
        "plt.figure(figsize=(8, 5))\n",
        "df.plot(kind='bar', x='product', y='revenue', legend=False, color='orange')\n",
        "\n",
        "# Step 8: Add labels and formatting\n",
        "plt.title(\"Revenue by Product\")\n",
        "plt.xlabel(\"Product\")\n",
        "plt.ylabel(\"Revenue ($)\")\n",
        "plt.xticks(rotation=45)\n",
        "plt.tight_layout()\n",
        "\n",
        "# Step 9: Save and show the chart\n",
        "plt.savefig(\"sales_chart.png\")\n",
        "plt.show()"
      ],
      "metadata": {
        "colab": {
          "base_uri": "https://localhost:8080/",
          "height": 505
        },
        "id": "NVo5YgeVTrx6",
        "outputId": "f2c5addd-7d5c-4246-9918-5f8607440656"
      },
      "execution_count": null,
      "outputs": [
        {
          "output_type": "display_data",
          "data": {
            "text/plain": [
              "<Figure size 800x500 with 0 Axes>"
            ]
          },
          "metadata": {}
        },
        {
          "output_type": "display_data",
          "data": {
            "text/plain": [
              "<Figure size 640x480 with 1 Axes>"
            ],
            "image/png": "[encoded data removed]"
          },
          "metadata": {}
        }
      ]
    }
  ]
}